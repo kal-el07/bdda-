{
 "cells": [
  {
   "cell_type": "code",
   "execution_count": 1,
   "metadata": {},
   "outputs": [],
   "source": [
    "from pyspark.sql import SparkSession"
   ]
  },
  {
   "cell_type": "code",
   "execution_count": 2,
   "metadata": {},
   "outputs": [],
   "source": [
    "spark=SparkSession.builder.appName('recommender').getOrCreate()"
   ]
  },
  {
   "cell_type": "code",
   "execution_count": 3,
   "metadata": {},
   "outputs": [],
   "source": [
    "from pyspark.ml.recommendation import ALS\n",
    "from pyspark.ml.evaluation import RegressionEvaluator"
   ]
  },
  {
   "cell_type": "code",
   "execution_count": 4,
   "metadata": {},
   "outputs": [],
   "source": [
    "data=spark.read.csv('ratings.csv', header=True, inferSchema=True)"
   ]
  },
  {
   "cell_type": "code",
   "execution_count": null,
   "metadata": {},
   "outputs": [],
   "source": []
  },
  {
   "cell_type": "code",
   "execution_count": 5,
   "metadata": {},
   "outputs": [
    {
     "data": {
      "text/plain": [
       "Row(user id=196, movie id=242, rating=3, timestamp=881250949)"
      ]
     },
     "execution_count": 5,
     "metadata": {},
     "output_type": "execute_result"
    }
   ],
   "source": [
    "data.head()"
   ]
  },
  {
   "cell_type": "code",
   "execution_count": 6,
   "metadata": {},
   "outputs": [
    {
     "name": "stdout",
     "output_type": "stream",
     "text": [
      "+-------+------------------+------------------+------------------+-----------------+\n",
      "|summary|           user id|          movie id|            rating|        timestamp|\n",
      "+-------+------------------+------------------+------------------+-----------------+\n",
      "|  count|            100000|            100000|            100000|           100000|\n",
      "|   mean|         462.48475|         425.53013|           3.52986|8.8352885148862E8|\n",
      "| stddev|266.61442012750905|330.79835632558473|1.1256735991443214|5343856.189502848|\n",
      "|    min|                 1|                 1|                 1|        874724710|\n",
      "|    max|               943|              1682|                 5|        893286638|\n",
      "+-------+------------------+------------------+------------------+-----------------+\n",
      "\n"
     ]
    }
   ],
   "source": [
    "data.describe().show()"
   ]
  },
  {
   "cell_type": "code",
   "execution_count": 20,
   "metadata": {},
   "outputs": [],
   "source": [
    "(training,test)=data.randomSplit([0.8,0.2])"
   ]
  },
  {
   "cell_type": "code",
   "execution_count": 21,
   "metadata": {},
   "outputs": [],
   "source": [
    "als=ALS(maxIter=5, regParam=1, userCol=\"user id\", itemCol=\"movie id\", ratingCol=\"rating\")"
   ]
  },
  {
   "cell_type": "code",
   "execution_count": 22,
   "metadata": {},
   "outputs": [],
   "source": [
    "model=als.fit(training)"
   ]
  },
  {
   "cell_type": "code",
   "execution_count": 23,
   "metadata": {},
   "outputs": [],
   "source": [
    "predictions=model.transform(test)"
   ]
  },
  {
   "cell_type": "code",
   "execution_count": 24,
   "metadata": {},
   "outputs": [
    {
     "name": "stdout",
     "output_type": "stream",
     "text": [
      "+-------+--------+------+---------+----------+\n",
      "|user id|movie id|rating|timestamp|prediction|\n",
      "+-------+--------+------+---------+----------+\n",
      "|    580|     148|     4|884125773| 2.3669012|\n",
      "|     27|     148|     3|891543129|  2.168142|\n",
      "|    297|     148|     3|875239619| 2.2305255|\n",
      "|    430|     148|     2|877226047| 2.2234983|\n",
      "|    347|     148|     3|881652888| 2.3934572|\n",
      "|    447|     148|     4|878854729| 2.3412983|\n",
      "|    486|     148|     2|879874903| 2.1439075|\n",
      "|    586|     148|     3|884065745| 2.1741352|\n",
      "|    423|     148|     3|891395417|  2.309734|\n",
      "|    761|     148|     5|876189829| 1.8038291|\n",
      "|    880|     148|     2|880167030| 2.3259535|\n",
      "|     59|     148|     3|888203175| 2.5290585|\n",
      "|    717|     148|     3|884642958| 2.4688659|\n",
      "|    130|     148|     4|876251127| 2.6808667|\n",
      "|    438|     148|     5|879868443| 2.6435263|\n",
      "|    532|     148|     5|888817717| 2.7315097|\n",
      "|    821|     148|     3|874792650| 2.7685602|\n",
      "|    533|     148|     3|882902641|   2.20773|\n",
      "|    459|     148|     5|879563367| 2.2062922|\n",
      "|    361|     148|     1|879441324|   2.42435|\n",
      "+-------+--------+------+---------+----------+\n",
      "only showing top 20 rows\n",
      "\n"
     ]
    }
   ],
   "source": [
    "predictions.show()"
   ]
  },
  {
   "cell_type": "code",
   "execution_count": 25,
   "metadata": {},
   "outputs": [],
   "source": [
    "evaluator=RegressionEvaluator(metricName=\"rmse\", labelCol=\"rating\", predictionCol=\"prediction\")\n",
    "rmse=evaluator.evaluate(predictions)\n"
   ]
  },
  {
   "cell_type": "code",
   "execution_count": 26,
   "metadata": {},
   "outputs": [
    {
     "name": "stdout",
     "output_type": "stream",
     "text": [
      "Root-Mean-Square-error nan\n"
     ]
    }
   ],
   "source": [
    "print (\"Root-Mean-Square-error\", str(rmse))"
   ]
  },
  {
   "cell_type": "code",
   "execution_count": 27,
   "metadata": {},
   "outputs": [
    {
     "data": {
      "text/plain": [
       "Row(user id=1, movie id=2, rating=3, timestamp=876893171)"
      ]
     },
     "execution_count": 27,
     "metadata": {},
     "output_type": "execute_result"
    }
   ],
   "source": [
    "test.head()"
   ]
  },
  {
   "cell_type": "code",
   "execution_count": 30,
   "metadata": {},
   "outputs": [],
   "source": [
    "single_user=test.filter(test[\"user id\"]==1).select([\"movie id\", 'user id','rating'])"
   ]
  },
  {
   "cell_type": "code",
   "execution_count": 31,
   "metadata": {},
   "outputs": [
    {
     "name": "stdout",
     "output_type": "stream",
     "text": [
      "+--------+-------+------+\n",
      "|movie id|user id|rating|\n",
      "+--------+-------+------+\n",
      "|       2|      1|     3|\n",
      "|       9|      1|     5|\n",
      "|      10|      1|     3|\n",
      "|      23|      1|     4|\n",
      "|      30|      1|     3|\n",
      "|      33|      1|     4|\n",
      "|      34|      1|     2|\n",
      "|      37|      1|     2|\n",
      "|      43|      1|     4|\n",
      "|      46|      1|     4|\n",
      "|      48|      1|     5|\n",
      "|      53|      1|     3|\n",
      "|      58|      1|     4|\n",
      "|      62|      1|     3|\n",
      "|      78|      1|     1|\n",
      "|      82|      1|     5|\n",
      "|      85|      1|     3|\n",
      "|      88|      1|     4|\n",
      "|      95|      1|     4|\n",
      "|      96|      1|     5|\n",
      "+--------+-------+------+\n",
      "only showing top 20 rows\n",
      "\n"
     ]
    }
   ],
   "source": [
    "single_user.show()"
   ]
  },
  {
   "cell_type": "code",
   "execution_count": 32,
   "metadata": {},
   "outputs": [],
   "source": [
    "recommendations=model.transform(single_user)"
   ]
  },
  {
   "cell_type": "code",
   "execution_count": 33,
   "metadata": {},
   "outputs": [
    {
     "name": "stdout",
     "output_type": "stream",
     "text": [
      "+--------+-------+------+----------+\n",
      "|movie id|user id|rating|prediction|\n",
      "+--------+-------+------+----------+\n",
      "|     251|      1|     4| 3.2917657|\n",
      "|     114|      1|     5| 3.2439075|\n",
      "|     127|      1|     5| 3.1910944|\n",
      "|      48|      1|     5|  3.108524|\n",
      "|     100|      1|     5| 3.0855145|\n",
      "|     191|      1|     5| 3.0717812|\n",
      "|      23|      1|     4| 3.0496716|\n",
      "|      96|      1|     5| 2.9978228|\n",
      "|     242|      1|     5| 2.9899044|\n",
      "|      30|      1|     3| 2.9528842|\n",
      "|     135|      1|     4|  2.952226|\n",
      "|     171|      1|     5| 2.9359472|\n",
      "|     216|      1|     5| 2.9275725|\n",
      "|     195|      1|     5| 2.9255419|\n",
      "|     137|      1|     5| 2.8924944|\n",
      "|     238|      1|     4| 2.8901763|\n",
      "|       9|      1|     5| 2.8705568|\n",
      "|     265|      1|     4|  2.861402|\n",
      "|     200|      1|     3| 2.8536363|\n",
      "|      95|      1|     4|  2.850968|\n",
      "+--------+-------+------+----------+\n",
      "only showing top 20 rows\n",
      "\n"
     ]
    }
   ],
   "source": [
    "recommendations.orderBy('prediction', ascending=False).show()"
   ]
  },
  {
   "cell_type": "code",
   "execution_count": 42,
   "metadata": {},
   "outputs": [],
   "source": [
    "als=ALS(maxIter=2, regParam=0.01, rank=20,\n",
    "        userCol=\"user id\", itemCol=\"movie id\", ratingCol=\"rating\",\n",
    "       coldStartStrategy='drop', implicitPrefs=False)"
   ]
  },
  {
   "cell_type": "code",
   "execution_count": 43,
   "metadata": {},
   "outputs": [],
   "source": [
    "model=als.fit(training)"
   ]
  },
  {
   "cell_type": "code",
   "execution_count": 44,
   "metadata": {},
   "outputs": [],
   "source": [
    "predictions=model.transform(test)"
   ]
  },
  {
   "cell_type": "code",
   "execution_count": 45,
   "metadata": {},
   "outputs": [
    {
     "name": "stdout",
     "output_type": "stream",
     "text": [
      "+-------+--------+------+---------+----------+\n",
      "|user id|movie id|rating|timestamp|prediction|\n",
      "+-------+--------+------+---------+----------+\n",
      "|    580|     148|     4|884125773|  2.773016|\n",
      "|     27|     148|     3|891543129| 4.6647367|\n",
      "|    297|     148|     3|875239619| 3.1634011|\n",
      "|    430|     148|     2|877226047| 3.7757752|\n",
      "|    347|     148|     3|881652888| 4.3568373|\n",
      "|    447|     148|     4|878854729| 3.7360222|\n",
      "|    486|     148|     2|879874903| 2.6352508|\n",
      "|    586|     148|     3|884065745| 3.6740649|\n",
      "|    423|     148|     3|891395417| 3.1206653|\n",
      "|    761|     148|     5|876189829| 5.9695206|\n",
      "|    880|     148|     2|880167030|  2.753314|\n",
      "|     59|     148|     3|888203175| 2.8383899|\n",
      "|    717|     148|     3|884642958| 3.1923501|\n",
      "|    130|     148|     4|876251127| 3.9324439|\n",
      "|    438|     148|     5|879868443| 5.0349298|\n",
      "|    532|     148|     5|888817717| 4.3282824|\n",
      "|    821|     148|     3|874792650| 3.3169317|\n",
      "|    533|     148|     3|882902641| 2.7805774|\n",
      "|    459|     148|     5|879563367| 3.2967858|\n",
      "|    361|     148|     1|879441324| 1.8036647|\n",
      "+-------+--------+------+---------+----------+\n",
      "only showing top 20 rows\n",
      "\n"
     ]
    }
   ],
   "source": [
    "predictions.show()"
   ]
  },
  {
   "cell_type": "code",
   "execution_count": 46,
   "metadata": {},
   "outputs": [],
   "source": [
    "evaluator=RegressionEvaluator(metricName=\"rmse\", labelCol=\"rating\", predictionCol=\"prediction\")\n",
    "rmse=evaluator.evaluate(predictions)\n"
   ]
  },
  {
   "cell_type": "code",
   "execution_count": 47,
   "metadata": {},
   "outputs": [
    {
     "name": "stdout",
     "output_type": "stream",
     "text": [
      "Root-Mean-Square-error 1.1544256269205355\n"
     ]
    }
   ],
   "source": [
    "print (\"Root-Mean-Square-error\", str(rmse))"
   ]
  },
  {
   "cell_type": "code",
   "execution_count": 48,
   "metadata": {},
   "outputs": [],
   "source": [
    "userRecs=model.recommendForAllUsers(10)"
   ]
  },
  {
   "cell_type": "code",
   "execution_count": 49,
   "metadata": {},
   "outputs": [
    {
     "data": {
      "text/plain": [
       "943"
      ]
     },
     "execution_count": 49,
     "metadata": {},
     "output_type": "execute_result"
    }
   ],
   "source": [
    "userRecs.count()"
   ]
  },
  {
   "cell_type": "code",
   "execution_count": 50,
   "metadata": {},
   "outputs": [],
   "source": [
    "movieRecs=model.recommendForAllItems(10)"
   ]
  },
  {
   "cell_type": "code",
   "execution_count": 51,
   "metadata": {},
   "outputs": [
    {
     "data": {
      "text/plain": [
       "1653"
      ]
     },
     "execution_count": 51,
     "metadata": {},
     "output_type": "execute_result"
    }
   ],
   "source": [
    "movieRecs.count()"
   ]
  },
  {
   "cell_type": "code",
   "execution_count": 53,
   "metadata": {},
   "outputs": [
    {
     "name": "stdout",
     "output_type": "stream",
     "text": [
      "(943, 2)\n",
      "(1653, 2)\n"
     ]
    }
   ],
   "source": [
    "userRecs_df=userRecs.toPandas()\n",
    "print (userRecs_df.shape)\n",
    "\n",
    "movieRecs_df=movieRecs.toPandas()\n",
    "print (movieRecs_df.shape)"
   ]
  },
  {
   "cell_type": "code",
   "execution_count": 54,
   "metadata": {},
   "outputs": [
    {
     "data": {
      "text/html": [
       "<div>\n",
       "<style scoped>\n",
       "    .dataframe tbody tr th:only-of-type {\n",
       "        vertical-align: middle;\n",
       "    }\n",
       "\n",
       "    .dataframe tbody tr th {\n",
       "        vertical-align: top;\n",
       "    }\n",
       "\n",
       "    .dataframe thead th {\n",
       "        text-align: right;\n",
       "    }\n",
       "</style>\n",
       "<table border=\"1\" class=\"dataframe\">\n",
       "  <thead>\n",
       "    <tr style=\"text-align: right;\">\n",
       "      <th></th>\n",
       "      <th>user id</th>\n",
       "      <th>recommendations</th>\n",
       "    </tr>\n",
       "  </thead>\n",
       "  <tbody>\n",
       "    <tr>\n",
       "      <th>0</th>\n",
       "      <td>471</td>\n",
       "      <td>[(904, 17.67246437072754), (1446, 16.667100906...</td>\n",
       "    </tr>\n",
       "    <tr>\n",
       "      <th>1</th>\n",
       "      <td>463</td>\n",
       "      <td>[(1262, 6.873754501342773), (865, 6.3376326560...</td>\n",
       "    </tr>\n",
       "    <tr>\n",
       "      <th>2</th>\n",
       "      <td>833</td>\n",
       "      <td>[(1512, 5.641695022583008), (320, 5.2123570442...</td>\n",
       "    </tr>\n",
       "    <tr>\n",
       "      <th>3</th>\n",
       "      <td>496</td>\n",
       "      <td>[(1166, 6.600992679595947), (348, 5.9584903717...</td>\n",
       "    </tr>\n",
       "    <tr>\n",
       "      <th>4</th>\n",
       "      <td>148</td>\n",
       "      <td>[(1166, 9.941758155822754), (1084, 9.068203926...</td>\n",
       "    </tr>\n",
       "  </tbody>\n",
       "</table>\n",
       "</div>"
      ],
      "text/plain": [
       "   user id                                    recommendations\n",
       "0      471  [(904, 17.67246437072754), (1446, 16.667100906...\n",
       "1      463  [(1262, 6.873754501342773), (865, 6.3376326560...\n",
       "2      833  [(1512, 5.641695022583008), (320, 5.2123570442...\n",
       "3      496  [(1166, 6.600992679595947), (348, 5.9584903717...\n",
       "4      148  [(1166, 9.941758155822754), (1084, 9.068203926..."
      ]
     },
     "execution_count": 54,
     "metadata": {},
     "output_type": "execute_result"
    }
   ],
   "source": [
    "userRecs_df.head()"
   ]
  },
  {
   "cell_type": "code",
   "execution_count": 55,
   "metadata": {},
   "outputs": [
    {
     "data": {
      "text/html": [
       "<div>\n",
       "<style scoped>\n",
       "    .dataframe tbody tr th:only-of-type {\n",
       "        vertical-align: middle;\n",
       "    }\n",
       "\n",
       "    .dataframe tbody tr th {\n",
       "        vertical-align: top;\n",
       "    }\n",
       "\n",
       "    .dataframe thead th {\n",
       "        text-align: right;\n",
       "    }\n",
       "</style>\n",
       "<table border=\"1\" class=\"dataframe\">\n",
       "  <thead>\n",
       "    <tr style=\"text-align: right;\">\n",
       "      <th></th>\n",
       "      <th>movie id</th>\n",
       "      <th>recommendations</th>\n",
       "    </tr>\n",
       "  </thead>\n",
       "  <tbody>\n",
       "    <tr>\n",
       "      <th>0</th>\n",
       "      <td>1580</td>\n",
       "      <td>[(726, 2.368070602416992), (310, 2.25766754150...</td>\n",
       "    </tr>\n",
       "    <tr>\n",
       "      <th>1</th>\n",
       "      <td>471</td>\n",
       "      <td>[(688, 10.665386199951172), (351, 6.8670892715...</td>\n",
       "    </tr>\n",
       "    <tr>\n",
       "      <th>2</th>\n",
       "      <td>1591</td>\n",
       "      <td>[(68, 9.890932083129883), (765, 9.773470878601...</td>\n",
       "    </tr>\n",
       "    <tr>\n",
       "      <th>3</th>\n",
       "      <td>1342</td>\n",
       "      <td>[(471, 5.385213851928711), (845, 4.82445144653...</td>\n",
       "    </tr>\n",
       "    <tr>\n",
       "      <th>4</th>\n",
       "      <td>463</td>\n",
       "      <td>[(153, 8.564023971557617), (635, 8.50160408020...</td>\n",
       "    </tr>\n",
       "  </tbody>\n",
       "</table>\n",
       "</div>"
      ],
      "text/plain": [
       "   movie id                                    recommendations\n",
       "0      1580  [(726, 2.368070602416992), (310, 2.25766754150...\n",
       "1       471  [(688, 10.665386199951172), (351, 6.8670892715...\n",
       "2      1591  [(68, 9.890932083129883), (765, 9.773470878601...\n",
       "3      1342  [(471, 5.385213851928711), (845, 4.82445144653...\n",
       "4       463  [(153, 8.564023971557617), (635, 8.50160408020..."
      ]
     },
     "execution_count": 55,
     "metadata": {},
     "output_type": "execute_result"
    }
   ],
   "source": [
    "movieRecs_df.head()"
   ]
  },
  {
   "cell_type": "code",
   "execution_count": 69,
   "metadata": {},
   "outputs": [],
   "source": [
    "als=ALS(userCol=\"user id\", itemCol=\"movie id\", ratingCol=\"rating\",\n",
    "       coldStartStrategy='drop', nonnegative=True)\n",
    "from pyspark.ml.tuning import ParamGridBuilder, TrainValidationSplit\n",
    "param_grid=ParamGridBuilder().addGrid(als.rank,[8,10,14]).addGrid(als.maxIter, [18,19,20]).addGrid(als.regParam, [.10,.15,.20]).build()"
   ]
  },
  {
   "cell_type": "code",
   "execution_count": 74,
   "metadata": {},
   "outputs": [],
   "source": [
    "evaluator=RegressionEvaluator(metricName=\"rmse\", labelCol=\"rating\", predictionCol=\"prediction\")\n",
    "\n"
   ]
  },
  {
   "cell_type": "code",
   "execution_count": 78,
   "metadata": {},
   "outputs": [],
   "source": [
    "tvs=TrainValidationSplit(estimator=als, estimatorParamMaps=param_grid,\n",
    "                    evaluator=evaluator)"
   ]
  },
  {
   "cell_type": "code",
   "execution_count": 79,
   "metadata": {},
   "outputs": [],
   "source": [
    "model=tvs.fit(training)"
   ]
  },
  {
   "cell_type": "code",
   "execution_count": 81,
   "metadata": {},
   "outputs": [],
   "source": [
    "best_model=model.bestModel"
   ]
  },
  {
   "cell_type": "code",
   "execution_count": 82,
   "metadata": {},
   "outputs": [
    {
     "name": "stdout",
     "output_type": "stream",
     "text": [
      "Root-Mean-Square-error 0.9193004092797963\n"
     ]
    }
   ],
   "source": [
    "predictions=best_model.transform(test)\n",
    "rmse=evaluator.evaluate(predictions)\n",
    "print (\"Root-Mean-Square-error\", str(rmse))"
   ]
  },
  {
   "cell_type": "code",
   "execution_count": null,
   "metadata": {},
   "outputs": [],
   "source": []
  }
 ],
 "metadata": {
  "kernelspec": {
   "display_name": "Python 3",
   "language": "python",
   "name": "python3"
  },
  "language_info": {
   "codemirror_mode": {
    "name": "ipython",
    "version": 3
   },
   "file_extension": ".py",
   "mimetype": "text/x-python",
   "name": "python",
   "nbconvert_exporter": "python",
   "pygments_lexer": "ipython3",
   "version": "3.7.3"
  }
 },
 "nbformat": 4,
 "nbformat_minor": 2
}
